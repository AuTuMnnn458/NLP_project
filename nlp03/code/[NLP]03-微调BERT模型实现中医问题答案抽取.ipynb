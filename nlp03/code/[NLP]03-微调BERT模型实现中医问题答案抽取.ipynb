{
 "cells": [
  {
   "cell_type": "markdown",
   "id": "87907823",
   "metadata": {},
   "source": [
    "# 数据预处理\n",
    "\n",
    "## 数据加载"
   ]
  },
  {
   "cell_type": "code",
   "execution_count": 10,
   "id": "0285c827",
   "metadata": {},
   "outputs": [],
   "source": [
    "import json\n",
    "with open('D:/model/web/nlp03/data/train.json', 'r', encoding='utf-8') as f:\n",
    "    txt = json.load(f)"
   ]
  },
  {
   "cell_type": "code",
   "execution_count": 11,
   "id": "25038115",
   "metadata": {},
   "outputs": [
    {
     "data": {
      "text/plain": [
       "5881"
      ]
     },
     "execution_count": 11,
     "metadata": {},
     "output_type": "execute_result"
    }
   ],
   "source": [
    "len(txt)"
   ]
  },
  {
   "cell_type": "code",
   "execution_count": 12,
   "id": "daf1d1bb",
   "metadata": {},
   "outputs": [],
   "source": [
    "# 数据整理\n",
    "res = {'context': [], 'Q': [], 'A': []}\n",
    "for sample in txt:\n",
    "    for i in sample['annotations']:\n",
    "        t = sample['text']\n",
    "        res['Q'].append(i['Q'])\n",
    "        res['A'].append(i['A'])\n",
    "        res['context'].append(t if '\"' != t[0] else t[1:])"
   ]
  },
  {
   "cell_type": "code",
   "execution_count": 13,
   "id": "4b5cea77",
   "metadata": {},
   "outputs": [],
   "source": [
    "import pandas as pd "
   ]
  },
  {
   "cell_type": "code",
   "execution_count": 15,
   "id": "cf71ec73",
   "metadata": {
    "collapsed": true
   },
   "outputs": [
    {
     "data": {
      "text/html": [
       "<div>\n",
       "<style scoped>\n",
       "    .dataframe tbody tr th:only-of-type {\n",
       "        vertical-align: middle;\n",
       "    }\n",
       "\n",
       "    .dataframe tbody tr th {\n",
       "        vertical-align: top;\n",
       "    }\n",
       "\n",
       "    .dataframe thead th {\n",
       "        text-align: right;\n",
       "    }\n",
       "</style>\n",
       "<table border=\"1\" class=\"dataframe\">\n",
       "  <thead>\n",
       "    <tr style=\"text-align: right;\">\n",
       "      <th></th>\n",
       "      <th>context</th>\n",
       "      <th>Q</th>\n",
       "      <th>A</th>\n",
       "    </tr>\n",
       "  </thead>\n",
       "  <tbody>\n",
       "    <tr>\n",
       "      <th>0</th>\n",
       "      <td>胆石症的治疗应区别不同情况分别处理，无症状胆囊结石可不作治疗，但应定期观察并注意良好的饮食习...</td>\n",
       "      <td>什么类型的胆囊结石可不作治疗？</td>\n",
       "      <td>无症状胆囊结</td>\n",
       "    </tr>\n",
       "    <tr>\n",
       "      <th>1</th>\n",
       "      <td>胆石症的治疗应区别不同情况分别处理，无症状胆囊结石可不作治疗，但应定期观察并注意良好的饮食习...</td>\n",
       "      <td>胆石症的治疗应注意什么？</td>\n",
       "      <td>应区别不同情况分别处理</td>\n",
       "    </tr>\n",
       "    <tr>\n",
       "      <th>2</th>\n",
       "      <td>胆石症的治疗应区别不同情况分别处理，无症状胆囊结石可不作治疗，但应定期观察并注意良好的饮食习...</td>\n",
       "      <td>胆管结石宜采用什么样的治疗方式？</td>\n",
       "      <td>以手术为主的综合治疗</td>\n",
       "    </tr>\n",
       "    <tr>\n",
       "      <th>3</th>\n",
       "      <td>反佐配伍的典范，始见于张仲景《伤寒杂病论》，其中记载“干呕、吐涎沫、头痛者吴茱萸汤主之”。患...</td>\n",
       "      <td>“干呕、吐涎沫、头痛者吴茱萸汤主之”这句话曾出现在哪本医学巨著中？</td>\n",
       "      <td>《伤寒杂病论》</td>\n",
       "    </tr>\n",
       "    <tr>\n",
       "      <th>4</th>\n",
       "      <td>反佐配伍的典范，始见于张仲景《伤寒杂病论》，其中记载“干呕、吐涎沫、头痛者吴茱萸汤主之”。患...</td>\n",
       "      <td>《伤寒杂病论》的作者是谁？</td>\n",
       "      <td>张仲景</td>\n",
       "    </tr>\n",
       "  </tbody>\n",
       "</table>\n",
       "</div>"
      ],
      "text/plain": [
       "                                             context  \\\n",
       "0  胆石症的治疗应区别不同情况分别处理，无症状胆囊结石可不作治疗，但应定期观察并注意良好的饮食习...   \n",
       "1  胆石症的治疗应区别不同情况分别处理，无症状胆囊结石可不作治疗，但应定期观察并注意良好的饮食习...   \n",
       "2  胆石症的治疗应区别不同情况分别处理，无症状胆囊结石可不作治疗，但应定期观察并注意良好的饮食习...   \n",
       "3  反佐配伍的典范，始见于张仲景《伤寒杂病论》，其中记载“干呕、吐涎沫、头痛者吴茱萸汤主之”。患...   \n",
       "4  反佐配伍的典范，始见于张仲景《伤寒杂病论》，其中记载“干呕、吐涎沫、头痛者吴茱萸汤主之”。患...   \n",
       "\n",
       "                                   Q            A  \n",
       "0                    什么类型的胆囊结石可不作治疗？       无症状胆囊结  \n",
       "1                       胆石症的治疗应注意什么？  应区别不同情况分别处理  \n",
       "2                   胆管结石宜采用什么样的治疗方式？   以手术为主的综合治疗  \n",
       "3  “干呕、吐涎沫、头痛者吴茱萸汤主之”这句话曾出现在哪本医学巨著中？      《伤寒杂病论》  \n",
       "4                      《伤寒杂病论》的作者是谁？          张仲景  "
      ]
     },
     "execution_count": 15,
     "metadata": {},
     "output_type": "execute_result"
    }
   ],
   "source": [
    "total_data = pd.DataFrame(res)\n",
    "total_data.head()"
   ]
  },
  {
   "cell_type": "code",
   "execution_count": 16,
   "id": "6d34c56a",
   "metadata": {},
   "outputs": [
    {
     "data": {
      "text/plain": [
       "(18478, 3)"
      ]
     },
     "execution_count": 16,
     "metadata": {},
     "output_type": "execute_result"
    }
   ],
   "source": [
    "total_data.shape"
   ]
  },
  {
   "cell_type": "code",
   "execution_count": 17,
   "id": "aa740495",
   "metadata": {},
   "outputs": [
    {
     "name": "stdout",
     "output_type": "stream",
     "text": [
      "(18456, 3)\n"
     ]
    }
   ],
   "source": [
    "# 检查并确认所有的答案A在原文context中出现过\n",
    "# 只取答案A出现在原文context中的例子\n",
    "ind = total_data.apply(lambda x: x['A'] in x['context'], axis=1)\n",
    "total_data = total_data.loc[ind, :]\n",
    "print(total_data.shape)"
   ]
  },
  {
   "cell_type": "code",
   "execution_count": 18,
   "id": "43fd284b",
   "metadata": {},
   "outputs": [],
   "source": [
    "# 确认答案在上下文的位置信息（开始、结束）\n",
    "total_data['start'] = total_data.apply(lambda x: x['context'].find(x['A']), axis=1)\n",
    "total_data['end'] = total_data['start'] + total_data['A'].apply(len)"
   ]
  },
  {
   "cell_type": "code",
   "execution_count": 19,
   "id": "0b5fff2d",
   "metadata": {
    "collapsed": true
   },
   "outputs": [
    {
     "data": {
      "text/html": [
       "<div>\n",
       "<style scoped>\n",
       "    .dataframe tbody tr th:only-of-type {\n",
       "        vertical-align: middle;\n",
       "    }\n",
       "\n",
       "    .dataframe tbody tr th {\n",
       "        vertical-align: top;\n",
       "    }\n",
       "\n",
       "    .dataframe thead th {\n",
       "        text-align: right;\n",
       "    }\n",
       "</style>\n",
       "<table border=\"1\" class=\"dataframe\">\n",
       "  <thead>\n",
       "    <tr style=\"text-align: right;\">\n",
       "      <th></th>\n",
       "      <th>context</th>\n",
       "      <th>Q</th>\n",
       "      <th>A</th>\n",
       "      <th>start</th>\n",
       "      <th>end</th>\n",
       "    </tr>\n",
       "  </thead>\n",
       "  <tbody>\n",
       "    <tr>\n",
       "      <th>0</th>\n",
       "      <td>胆石症的治疗应区别不同情况分别处理，无症状胆囊结石可不作治疗，但应定期观察并注意良好的饮食习...</td>\n",
       "      <td>什么类型的胆囊结石可不作治疗？</td>\n",
       "      <td>无症状胆囊结</td>\n",
       "      <td>18</td>\n",
       "      <td>24</td>\n",
       "    </tr>\n",
       "    <tr>\n",
       "      <th>1</th>\n",
       "      <td>胆石症的治疗应区别不同情况分别处理，无症状胆囊结石可不作治疗，但应定期观察并注意良好的饮食习...</td>\n",
       "      <td>胆石症的治疗应注意什么？</td>\n",
       "      <td>应区别不同情况分别处理</td>\n",
       "      <td>6</td>\n",
       "      <td>17</td>\n",
       "    </tr>\n",
       "    <tr>\n",
       "      <th>2</th>\n",
       "      <td>胆石症的治疗应区别不同情况分别处理，无症状胆囊结石可不作治疗，但应定期观察并注意良好的饮食习...</td>\n",
       "      <td>胆管结石宜采用什么样的治疗方式？</td>\n",
       "      <td>以手术为主的综合治疗</td>\n",
       "      <td>94</td>\n",
       "      <td>104</td>\n",
       "    </tr>\n",
       "    <tr>\n",
       "      <th>3</th>\n",
       "      <td>反佐配伍的典范，始见于张仲景《伤寒杂病论》，其中记载“干呕、吐涎沫、头痛者吴茱萸汤主之”。患...</td>\n",
       "      <td>“干呕、吐涎沫、头痛者吴茱萸汤主之”这句话曾出现在哪本医学巨著中？</td>\n",
       "      <td>《伤寒杂病论》</td>\n",
       "      <td>14</td>\n",
       "      <td>21</td>\n",
       "    </tr>\n",
       "    <tr>\n",
       "      <th>4</th>\n",
       "      <td>反佐配伍的典范，始见于张仲景《伤寒杂病论》，其中记载“干呕、吐涎沫、头痛者吴茱萸汤主之”。患...</td>\n",
       "      <td>《伤寒杂病论》的作者是谁？</td>\n",
       "      <td>张仲景</td>\n",
       "      <td>11</td>\n",
       "      <td>14</td>\n",
       "    </tr>\n",
       "    <tr>\n",
       "      <th>...</th>\n",
       "      <td>...</td>\n",
       "      <td>...</td>\n",
       "      <td>...</td>\n",
       "      <td>...</td>\n",
       "      <td>...</td>\n",
       "    </tr>\n",
       "    <tr>\n",
       "      <th>18473</th>\n",
       "      <td>痘痘，医学上叫痤疮，是毛囊皮脂腺的慢性炎症。导致痘痘发生有三个环节：一是局部皮脂分泌过多，这...</td>\n",
       "      <td>爱长痘的人饮食需要注意哪些？</td>\n",
       "      <td>爱长痘、出油多的人应少摄入油腻食物、甜食等高热量的食品，而多吃水果、蔬菜及粗纤维食物。再次，...</td>\n",
       "      <td>356</td>\n",
       "      <td>460</td>\n",
       "    </tr>\n",
       "    <tr>\n",
       "      <th>18474</th>\n",
       "      <td>俗话说“树落叶，人落发”，脱发最容易在秋季发生和加重。外用洗护方配合正确的梳头方式，可有效减...</td>\n",
       "      <td>如何减少脱发？</td>\n",
       "      <td>外用洗护方配合正确的梳头方式，可有效减少脱发</td>\n",
       "      <td>27</td>\n",
       "      <td>49</td>\n",
       "    </tr>\n",
       "    <tr>\n",
       "      <th>18475</th>\n",
       "      <td>俗话说“树落叶，人落发”，脱发最容易在秋季发生和加重。外用洗护方配合正确的梳头方式，可有效减...</td>\n",
       "      <td>生姜的功效是什么？</td>\n",
       "      <td>生姜性温，具有解表、发散的功效</td>\n",
       "      <td>50</td>\n",
       "      <td>65</td>\n",
       "    </tr>\n",
       "    <tr>\n",
       "      <th>18476</th>\n",
       "      <td>俗话说“树落叶，人落发”，脱发最容易在秋季发生和加重。外用洗护方配合正确的梳头方式，可有效减...</td>\n",
       "      <td>姜汁防脱发的外用方法有哪几种？</td>\n",
       "      <td>一是把生姜切成片放在少量水中熬煮，也可加入枸杞一起熬煮，煮到汤汁变黄，有浓烈姜味溢出即可。把...</td>\n",
       "      <td>116</td>\n",
       "      <td>353</td>\n",
       "    </tr>\n",
       "    <tr>\n",
       "      <th>18477</th>\n",
       "      <td>俗话说“树落叶，人落发”，脱发最容易在秋季发生和加重。外用洗护方配合正确的梳头方式，可有效减...</td>\n",
       "      <td>脱发要注意哪些？</td>\n",
       "      <td>需要注意的是，脂溢性脱发中医辨证多为肝胆湿热郁积、熏蒸头面皮肤所致，而生姜性温，故不适于姜汁...</td>\n",
       "      <td>305</td>\n",
       "      <td>483</td>\n",
       "    </tr>\n",
       "  </tbody>\n",
       "</table>\n",
       "<p>18456 rows × 5 columns</p>\n",
       "</div>"
      ],
      "text/plain": [
       "                                                 context  \\\n",
       "0      胆石症的治疗应区别不同情况分别处理，无症状胆囊结石可不作治疗，但应定期观察并注意良好的饮食习...   \n",
       "1      胆石症的治疗应区别不同情况分别处理，无症状胆囊结石可不作治疗，但应定期观察并注意良好的饮食习...   \n",
       "2      胆石症的治疗应区别不同情况分别处理，无症状胆囊结石可不作治疗，但应定期观察并注意良好的饮食习...   \n",
       "3      反佐配伍的典范，始见于张仲景《伤寒杂病论》，其中记载“干呕、吐涎沫、头痛者吴茱萸汤主之”。患...   \n",
       "4      反佐配伍的典范，始见于张仲景《伤寒杂病论》，其中记载“干呕、吐涎沫、头痛者吴茱萸汤主之”。患...   \n",
       "...                                                  ...   \n",
       "18473  痘痘，医学上叫痤疮，是毛囊皮脂腺的慢性炎症。导致痘痘发生有三个环节：一是局部皮脂分泌过多，这...   \n",
       "18474  俗话说“树落叶，人落发”，脱发最容易在秋季发生和加重。外用洗护方配合正确的梳头方式，可有效减...   \n",
       "18475  俗话说“树落叶，人落发”，脱发最容易在秋季发生和加重。外用洗护方配合正确的梳头方式，可有效减...   \n",
       "18476  俗话说“树落叶，人落发”，脱发最容易在秋季发生和加重。外用洗护方配合正确的梳头方式，可有效减...   \n",
       "18477  俗话说“树落叶，人落发”，脱发最容易在秋季发生和加重。外用洗护方配合正确的梳头方式，可有效减...   \n",
       "\n",
       "                                       Q  \\\n",
       "0                        什么类型的胆囊结石可不作治疗？   \n",
       "1                           胆石症的治疗应注意什么？   \n",
       "2                       胆管结石宜采用什么样的治疗方式？   \n",
       "3      “干呕、吐涎沫、头痛者吴茱萸汤主之”这句话曾出现在哪本医学巨著中？   \n",
       "4                          《伤寒杂病论》的作者是谁？   \n",
       "...                                  ...   \n",
       "18473                     爱长痘的人饮食需要注意哪些？   \n",
       "18474                            如何减少脱发？   \n",
       "18475                          生姜的功效是什么？   \n",
       "18476                    姜汁防脱发的外用方法有哪几种？   \n",
       "18477                           脱发要注意哪些？   \n",
       "\n",
       "                                                       A  start  end  \n",
       "0                                                 无症状胆囊结     18   24  \n",
       "1                                            应区别不同情况分别处理      6   17  \n",
       "2                                             以手术为主的综合治疗     94  104  \n",
       "3                                                《伤寒杂病论》     14   21  \n",
       "4                                                    张仲景     11   14  \n",
       "...                                                  ...    ...  ...  \n",
       "18473  爱长痘、出油多的人应少摄入油腻食物、甜食等高热量的食品，而多吃水果、蔬菜及粗纤维食物。再次，...    356  460  \n",
       "18474                             外用洗护方配合正确的梳头方式，可有效减少脱发     27   49  \n",
       "18475                                    生姜性温，具有解表、发散的功效     50   65  \n",
       "18476  一是把生姜切成片放在少量水中熬煮，也可加入枸杞一起熬煮，煮到汤汁变黄，有浓烈姜味溢出即可。把...    116  353  \n",
       "18477  需要注意的是，脂溢性脱发中医辨证多为肝胆湿热郁积、熏蒸头面皮肤所致，而生姜性温，故不适于姜汁...    305  483  \n",
       "\n",
       "[18456 rows x 5 columns]"
      ]
     },
     "execution_count": 19,
     "metadata": {},
     "output_type": "execute_result"
    }
   ],
   "source": [
    "total_data"
   ]
  },
  {
   "cell_type": "markdown",
   "id": "ca521e30",
   "metadata": {},
   "source": [
    "## 数据划分"
   ]
  },
  {
   "cell_type": "code",
   "execution_count": 21,
   "id": "c0b737ad",
   "metadata": {},
   "outputs": [
    {
     "name": "stdout",
     "output_type": "stream",
     "text": [
      "(14764, 5) (3692, 5)\n"
     ]
    }
   ],
   "source": [
    "from sklearn.model_selection import train_test_split\n",
    "train, test = train_test_split(total_data, random_state=42, test_size=0.2)\n",
    "print(train.shape, test.shape)"
   ]
  },
  {
   "cell_type": "markdown",
   "id": "bcbe1525",
   "metadata": {},
   "source": [
    "## 数据准备"
   ]
  },
  {
   "cell_type": "code",
   "execution_count": 33,
   "id": "3a955711",
   "metadata": {},
   "outputs": [],
   "source": [
    "from transformers import AutoTokenizer\n",
    "model_path = 'D:/model/web/nlp03/roberta-base-chinese-extractive-qa'\n",
    "tokenizer = AutoTokenizer.from_pretrained(model_path)"
   ]
  },
  {
   "cell_type": "code",
   "execution_count": 34,
   "id": "79f4f2e7",
   "metadata": {},
   "outputs": [
    {
     "data": {
      "text/plain": [
       "BertTokenizerFast(name_or_path='D:/model/web/nlp03/roberta-base-chinese-extractive-qa', vocab_size=21128, model_max_length=1000000000000000019884624838656, is_fast=True, padding_side='right', truncation_side='right', special_tokens={'unk_token': '[UNK]', 'sep_token': '[SEP]', 'pad_token': '[PAD]', 'cls_token': '[CLS]', 'mask_token': '[MASK]'}, clean_up_tokenization_spaces=True),  added_tokens_decoder={\n",
       "\t0: AddedToken(\"[PAD]\", rstrip=False, lstrip=False, single_word=False, normalized=False, special=True),\n",
       "\t100: AddedToken(\"[UNK]\", rstrip=False, lstrip=False, single_word=False, normalized=False, special=True),\n",
       "\t101: AddedToken(\"[CLS]\", rstrip=False, lstrip=False, single_word=False, normalized=False, special=True),\n",
       "\t102: AddedToken(\"[SEP]\", rstrip=False, lstrip=False, single_word=False, normalized=False, special=True),\n",
       "\t103: AddedToken(\"[MASK]\", rstrip=False, lstrip=False, single_word=False, normalized=False, special=True),\n",
       "}"
      ]
     },
     "execution_count": 34,
     "metadata": {},
     "output_type": "execute_result"
    }
   ],
   "source": [
    "tokenizer "
   ]
  },
  {
   "cell_type": "code",
   "execution_count": 35,
   "id": "0af344dd",
   "metadata": {},
   "outputs": [],
   "source": [
    "import numpy as np\n",
    "def prepare_train_features(examples):\n",
    "    tokenizer_examples = tokenizer(\n",
    "        list(examples['Q']), \n",
    "        list(examples['context']),\n",
    "        max_length=512,   # 最大长度\n",
    "        padding='max_length',  # 不足：填充\n",
    "        truncation='only_second',  # 超过：截取（只截取上下文，问题不处理）\n",
    "        stride=128,  # 重叠部分长度\n",
    "        return_overflowing_tokens=True,\n",
    "        return_offsets_mapping=True,\n",
    "    )\n",
    "    # 由于一个示例可能会为我们提供多个特征，如果它具有很长的上下文，那么我们需要一个从特征到其相应样本的映射\n",
    "    sample_mapping = tokenizer_examples.pop('overflow_to_sample_mapping')\n",
    "    # offset_mapping将为我们提供从标记到原始上下文中字符位置的映射。这将帮助我们计算start位置和end位置\n",
    "    offset_mapping = tokenizer_examples.pop('offset_mapping')\n",
    "    \n",
    "    tokenizer_examples['start_positions'] = []\n",
    "    tokenizer_examples['end_positions'] = []\n",
    "\n",
    "    for i, offset in enumerate(offset_mapping):\n",
    "\n",
    "        start_char, end_char = list(examples['start'])[sample_mapping[i]], list(examples['end'])[sample_mapping[i]]\n",
    "\n",
    "        # tokenizer_examples['token_type_ids']\n",
    "        t = np.where(np.array(tokenizer_examples.sequence_ids(i)) == 1)[0]\n",
    "        context_start, context_end = min(t), max(t)\n",
    "\n",
    "        # 判断答案是否存在在截断的上下文中，如果否，则标记为（0,0）；如果是，则更新开始、结束的位置信息\n",
    "        if offset[context_start][0] > start_char or offset[context_end][1] < end_char:\n",
    "            # 判断答案是否完整存在在截断的上下文中\n",
    "            tokenizer_examples['start_positions'].append(0)\n",
    "            tokenizer_examples['end_positions'].append(0)\n",
    "        else:\n",
    "            tokenizer_examples['start_positions'].append(\n",
    "                [k for k,n in enumerate(offset) if k >= context_start and start_char in range(n[0], n[1])][0]\n",
    "            )\n",
    "            tokenizer_examples['end_positions'].append(\n",
    "                [k+1 for k,n in enumerate(offset) if k >= context_start and end_char in range(n[0], n[1]+1)][0]\n",
    "            )\n",
    "    return tokenizer_examples"
   ]
  },
  {
   "cell_type": "code",
   "execution_count": 36,
   "id": "581fc96a",
   "metadata": {},
   "outputs": [],
   "source": [
    "train_token = prepare_train_features(train)\n",
    "test_token = prepare_train_features(test)"
   ]
  },
  {
   "cell_type": "code",
   "execution_count": 37,
   "id": "8bd369ab",
   "metadata": {},
   "outputs": [],
   "source": [
    "from datasets import Dataset\n",
    "train_ds = Dataset.from_dict(train_token)\n",
    "test_ds = Dataset.from_dict(test_token)"
   ]
  },
  {
   "cell_type": "code",
   "execution_count": 38,
   "id": "ea5fa5e7",
   "metadata": {},
   "outputs": [
    {
     "data": {
      "text/plain": [
       "Dataset({\n",
       "    features: ['input_ids', 'token_type_ids', 'attention_mask', 'start_positions', 'end_positions'],\n",
       "    num_rows: 15547\n",
       "})"
      ]
     },
     "execution_count": 38,
     "metadata": {},
     "output_type": "execute_result"
    }
   ],
   "source": [
    "train_ds"
   ]
  },
  {
   "cell_type": "markdown",
   "id": "b2f1b8d6",
   "metadata": {},
   "source": [
    "# 模型训练"
   ]
  },
  {
   "cell_type": "code",
   "execution_count": 39,
   "id": "248f1c70",
   "metadata": {},
   "outputs": [],
   "source": [
    "# 模型加载\n",
    "from transformers import AutoModelForQuestionAnswering\n",
    "model = AutoModelForQuestionAnswering.from_pretrained(model_path)"
   ]
  },
  {
   "cell_type": "code",
   "execution_count": 40,
   "id": "afe38ecd",
   "metadata": {},
   "outputs": [
    {
     "data": {
      "text/plain": [
       "BertForQuestionAnswering(\n",
       "  (bert): BertModel(\n",
       "    (embeddings): BertEmbeddings(\n",
       "      (word_embeddings): Embedding(21128, 768, padding_idx=0)\n",
       "      (position_embeddings): Embedding(512, 768)\n",
       "      (token_type_embeddings): Embedding(2, 768)\n",
       "      (LayerNorm): LayerNorm((768,), eps=1e-12, elementwise_affine=True)\n",
       "      (dropout): Dropout(p=0.1, inplace=False)\n",
       "    )\n",
       "    (encoder): BertEncoder(\n",
       "      (layer): ModuleList(\n",
       "        (0-11): 12 x BertLayer(\n",
       "          (attention): BertAttention(\n",
       "            (self): BertSdpaSelfAttention(\n",
       "              (query): Linear(in_features=768, out_features=768, bias=True)\n",
       "              (key): Linear(in_features=768, out_features=768, bias=True)\n",
       "              (value): Linear(in_features=768, out_features=768, bias=True)\n",
       "              (dropout): Dropout(p=0.1, inplace=False)\n",
       "            )\n",
       "            (output): BertSelfOutput(\n",
       "              (dense): Linear(in_features=768, out_features=768, bias=True)\n",
       "              (LayerNorm): LayerNorm((768,), eps=1e-12, elementwise_affine=True)\n",
       "              (dropout): Dropout(p=0.1, inplace=False)\n",
       "            )\n",
       "          )\n",
       "          (intermediate): BertIntermediate(\n",
       "            (dense): Linear(in_features=768, out_features=3072, bias=True)\n",
       "            (intermediate_act_fn): GELUActivation()\n",
       "          )\n",
       "          (output): BertOutput(\n",
       "            (dense): Linear(in_features=3072, out_features=768, bias=True)\n",
       "            (LayerNorm): LayerNorm((768,), eps=1e-12, elementwise_affine=True)\n",
       "            (dropout): Dropout(p=0.1, inplace=False)\n",
       "          )\n",
       "        )\n",
       "      )\n",
       "    )\n",
       "  )\n",
       "  (qa_outputs): Linear(in_features=768, out_features=2, bias=True)\n",
       ")"
      ]
     },
     "execution_count": 40,
     "metadata": {},
     "output_type": "execute_result"
    }
   ],
   "source": [
    "model"
   ]
  },
  {
   "cell_type": "code",
   "execution_count": 54,
   "id": "bd2cd7a1",
   "metadata": {},
   "outputs": [],
   "source": [
    "#定义模型参数\n",
    "from transformers import TrainingArguments\n",
    "model_ckpt_dir = 'D:/model/web/nlp03/test-qa'\n",
    "batch_size = 8\n",
    "args = TrainingArguments(\n",
    "    model_ckpt_dir,\n",
    "    eval_strategy='epoch',\n",
    "    learning_rate=2e-5,\n",
    "    per_device_eval_batch_size=batch_size, \n",
    "    per_gpu_train_batch_size=batch_size,\n",
    "    num_train_epochs=1,\n",
    "    weight_decay=0.01,\n",
    "    save_total_limit=3,\n",
    ")"
   ]
  },
  {
   "cell_type": "code",
   "execution_count": 55,
   "id": "dbf0a0b6",
   "metadata": {},
   "outputs": [],
   "source": [
    "# 定义数据校对器\n",
    "from transformers import default_data_collator\n",
    "data_collator = default_data_collator"
   ]
  },
  {
   "cell_type": "code",
   "execution_count": 56,
   "id": "ee9a278f",
   "metadata": {},
   "outputs": [],
   "source": [
    "# 自定义评估指标计算函数\n",
    "from transformers.data.metrics.squad_metrics import compute_exact, compute_f1\n",
    "\n",
    "def compute_metrics(eval_pred):\n",
    "    predictions, label_ids  = eval_pred\n",
    "    \n",
    "    answer_start = np.argmax(predictions[0], axis=1)\n",
    "    answer_end = np.argmax(predictions[1], axis=1)\n",
    "    \n",
    "    label_start, label_end = label_ids[0], label_ids[1]\n",
    "    \n",
    "    data = test_ds['input_ids']\n",
    "    \n",
    "    gold_answers = []\n",
    "    pred_answers = []\n",
    "    for idx, example in enumerate(data):\n",
    "        gold_answer = tokenizer.decode(example[label_start[idx]: label_end[idx]])\n",
    "        pred_answer = tokenizer.decode(example[answer_start[idx]: answer_end[idx]])\n",
    "        \n",
    "        gold_answers.append(gold_answer.strip())\n",
    "        pred_answers.append(pred_answer.strip())\n",
    "        \n",
    "    f1_score, exact_score = 0, 0\n",
    "    for gold_answer, pred_answer in zip(gold_answers, pred_answers):\n",
    "        exact_score += compute_exact(gold_answer, pred_answer)\n",
    "        f1_score += compute_f1(gold_answer, pred_answer)\n",
    "    exact_score /= len(gold_answers)\n",
    "    f1_score /= len(gold_answers)\n",
    "    \n",
    "    exact_score *= 100\n",
    "    f1_score *= 100\n",
    "    result = {'exact_score': exact_score, 'f1_score': f1_score}\n",
    "    return result"
   ]
  },
  {
   "cell_type": "code",
   "execution_count": 57,
   "id": "d4a3e0dc",
   "metadata": {},
   "outputs": [
    {
     "name": "stderr",
     "output_type": "stream",
     "text": [
      "Using deprecated `--per_gpu_train_batch_size` argument which will be removed in a future version. Using `--per_device_train_batch_size` is preferred.\n"
     ]
    }
   ],
   "source": [
    "# 定义trainer对象\n",
    "from transformers import Trainer\n",
    "trainer = Trainer(\n",
    "    model=model,\n",
    "    args=args,\n",
    "    data_collator=data_collator,\n",
    "    train_dataset=train_ds, \n",
    "    eval_dataset=test_ds,\n",
    "    tokenizer=tokenizer,\n",
    "    compute_metrics=compute_metrics,\n",
    ")"
   ]
  },
  {
   "cell_type": "code",
   "execution_count": 58,
   "id": "048aa676",
   "metadata": {
    "scrolled": false
   },
   "outputs": [
    {
     "name": "stderr",
     "output_type": "stream",
     "text": [
      "Using deprecated `--per_gpu_train_batch_size` argument which will be removed in a future version. Using `--per_device_train_batch_size` is preferred.\n"
     ]
    },
    {
     "data": {
      "text/html": [
       "\n",
       "    <div>\n",
       "      \n",
       "      <progress value='1944' max='1944' style='width:300px; height:20px; vertical-align: middle;'></progress>\n",
       "      [1944/1944 13:21, Epoch 1/1]\n",
       "    </div>\n",
       "    <table border=\"1\" class=\"dataframe\">\n",
       "  <thead>\n",
       " <tr style=\"text-align: left;\">\n",
       "      <th>Epoch</th>\n",
       "      <th>Training Loss</th>\n",
       "      <th>Validation Loss</th>\n",
       "      <th>Exact Score</th>\n",
       "      <th>F1 Score</th>\n",
       "    </tr>\n",
       "  </thead>\n",
       "  <tbody>\n",
       "    <tr>\n",
       "      <td>1</td>\n",
       "      <td>1.342900</td>\n",
       "      <td>1.261639</td>\n",
       "      <td>42.586341</td>\n",
       "      <td>77.367336</td>\n",
       "    </tr>\n",
       "  </tbody>\n",
       "</table><p>"
      ],
      "text/plain": [
       "<IPython.core.display.HTML object>"
      ]
     },
     "metadata": {},
     "output_type": "display_data"
    },
    {
     "data": {
      "text/plain": [
       "TrainOutput(global_step=1944, training_loss=1.4039190786856193, metrics={'train_runtime': 802.4812, 'train_samples_per_second': 19.374, 'train_steps_per_second': 2.422, 'total_flos': 4062380676974592.0, 'train_loss': 1.4039190786856193, 'epoch': 1.0})"
      ]
     },
     "execution_count": 58,
     "metadata": {},
     "output_type": "execute_result"
    }
   ],
   "source": [
    "trainer.train()\n",
    "# epoch=10在4060跑预计时间2小时，数据量太大，下面采用跑好的模型"
   ]
  },
  {
   "cell_type": "markdown",
   "id": "c6a23d35",
   "metadata": {},
   "source": [
    "# 模型评估"
   ]
  },
  {
   "cell_type": "code",
   "execution_count": 59,
   "id": "a7fe9f15",
   "metadata": {},
   "outputs": [],
   "source": [
    "from transformers import AutoTokenizer, AutoModelForQuestionAnswering\n",
    "eval_dir = 'D:/model/web/nlp03/test-qa/checkpoint-77500/'\n",
    "tokenizer_test = AutoTokenizer.from_pretrained(eval_dir)\n",
    "model_test = AutoModelForQuestionAnswering.from_pretrained(eval_dir)"
   ]
  },
  {
   "cell_type": "code",
   "execution_count": 60,
   "id": "e67bff02",
   "metadata": {},
   "outputs": [
    {
     "data": {
      "text/plain": [
       "context    胆石症的治疗应区别不同情况分别处理，无症状胆囊结石可不作治疗，但应定期观察并注意良好的饮食习...\n",
       "Q                                            什么类型的胆囊结石可不作治疗？\n",
       "A                                                     无症状胆囊结\n",
       "start                                                     18\n",
       "end                                                       24\n",
       "Name: 0, dtype: object"
      ]
     },
     "execution_count": 60,
     "metadata": {},
     "output_type": "execute_result"
    }
   ],
   "source": [
    "test_sample = total_data.iloc[0,:]\n",
    "test_sample"
   ]
  },
  {
   "cell_type": "code",
   "execution_count": 61,
   "id": "6e586cfa",
   "metadata": {},
   "outputs": [],
   "source": [
    "import torch\n",
    "QA_input = tokenizer_test(\n",
    "    test_sample['Q'], \n",
    "    test_sample['context'],\n",
    "    max_length=512,\n",
    "    padding='max_length',\n",
    "    truncation='only_second',\n",
    "    stride=128,\n",
    "    return_tensors='pt',\n",
    ")\n",
    "\n",
    "with torch.no_grad():\n",
    "    logits = model_test(**QA_input)"
   ]
  },
  {
   "cell_type": "code",
   "execution_count": 62,
   "id": "c7ecd208",
   "metadata": {},
   "outputs": [],
   "source": [
    "answer_start = np.argmax(logits.start_logits.numpy(), axis=1)\n",
    "answer_end = np.argmax(logits.end_logits.numpy(), axis=1)"
   ]
  },
  {
   "cell_type": "code",
   "execution_count": 64,
   "id": "b4b96305",
   "metadata": {},
   "outputs": [
    {
     "name": "stdout",
     "output_type": "stream",
     "text": [
      "Context: 胆石症的治疗应区别不同情况分别处理，无症状胆囊结石可不作治疗，但应定期观察并注意良好的饮食习惯。有症状的胆囊结石仍以胆囊切除术为较安全有效的疗法，此外，尚可采用体外震波碎石。胆管结石宜采用以手术为主的综合治疗。胆石症的家庭治疗可采用以下方法：\\n（1）一般治疗    预防和治疗肠道寄生虫病和肠道感染，以降低胆石症的发病率。胆绞痛发作期应禁食脂肪等食物，采用高碳水化合物流质饮食；缓解期应忌食富含胆固醇的食物如脑、肝、肾、蛋黄等。\\n（2）增进胆汁排泄    可选用50%硫酸镁10~15毫升，餐后口服，每日3次；胆盐每次口服0.5~1克，每日3次；去氢胆酸0.25克，每日3次，餐后服用。\\n（3）消除胆绞痛    轻者可卧床休息，右上腹热敷，用硝酸甘油酯0.6毫克，每3~4小时一次，含于舌下；或阿托品0.5毫克，每3~4小时肌肉注射一次。重者应住院治疗。\\n（4）排石疗法以中药治疗为主，若右上腹疼痛有间歇期，无明显发热及黄疸，苔薄白，脉弦，属气滞者，用生大黄6克、木香9克、枳壳9克、金钱草30克、川楝子9克、黄苓9克，水煎服。右上腹痛为持续性，且阵发性加剧，有明显发热及黄疸，舌红苔黄，\n",
      "\n",
      "Question: 什么类型的胆囊结石可不作治疗？\n",
      "\n",
      "Predict Answer: 无症状胆囊结\n",
      "\n",
      "Real Answer:  无症状胆囊结\n"
     ]
    }
   ],
   "source": [
    "print(f'Context: {test_sample[\"context\"]}\\n\\nQuestion: {test_sample[\"Q\"]}\\n')\n",
    "print('Predict Answer:', tokenizer_test.decode(QA_input['input_ids'][0][answer_start[0]:answer_end[0]]).replace(' ', ''))\n",
    "print('\\nReal Answer: ', test_sample['A'])"
   ]
  },
  {
   "cell_type": "code",
   "execution_count": 65,
   "id": "5e8b7fab",
   "metadata": {},
   "outputs": [],
   "source": [
    "def result_output(test_sample_index):\n",
    "    test_sample = total_data.iloc[test_sample_index,:]\n",
    "    QA_input = tokenizer_test(\n",
    "    test_sample['Q'], \n",
    "    test_sample['context'],\n",
    "    max_length=512,\n",
    "    padding='max_length',\n",
    "    truncation='only_second',\n",
    "    stride=128,\n",
    "    return_tensors='pt',\n",
    "    )\n",
    "\n",
    "    with torch.no_grad():\n",
    "        logits = model_test(**QA_input)\n",
    "    \n",
    "    answer_start = np.argmax(logits.start_logits.numpy(), axis=1)\n",
    "    answer_end = np.argmax(logits.end_logits.numpy(), axis=1)\n",
    "    \n",
    "    print(f'Context: {test_sample[\"context\"]}\\n\\nQuestion: {test_sample[\"Q\"]}\\n')\n",
    "    print('Predict Answer:', tokenizer_test.decode(QA_input['input_ids'][0][answer_start[0]:answer_end[0]]).replace(' ', ''))\n",
    "    print('\\nReal Answer: ', test_sample['A'])"
   ]
  },
  {
   "cell_type": "code",
   "execution_count": 66,
   "id": "52401cfb",
   "metadata": {},
   "outputs": [
    {
     "name": "stdout",
     "output_type": "stream",
     "text": [
      "Context: 黄帝说：什麽叫做所胜？岐伯说：春胜长夏，长夏胜冬，冬胜夏，夏胜秋，秋胜春，这就是时令根据五行规律而互相胜负的情况。同时，时令又依其五行之气的属性来分别影响各脏。黄帝说：怎样知道它们之间的相胜情况呢？岐伯说：首先要推求气候到来的时间，一般从立春开始向下推算。如果时令未到而气候先期来过，称为太过，某气太过就会侵侮其所不胜之气，欺凌其所胜之气，这就叫做气淫；时令以到而气候未到，称为不及，某气不及，则其所胜之气因缺乏制约而妄行，其所生之气因缺乏资助而困弱，其所不胜则更会加以侵迫，这就叫做气迫。所谓求其至，就是要根据时令推求气候到来的早晚，要谨慎地等候时令的变化，气候的到来是可以预期的。如果搞错了时令或违反了时令与气候相合的关系，以致于分不出五行之气当旺的时间，那麽，当邪气内扰，病及于人的时候，好的医生也不能控制了。\n",
      "\n",
      "Question: 什么叫做太过？\n",
      "\n",
      "Predict Answer: 如果时令未到而气候先期来过，称为太过\n",
      "\n",
      "Real Answer:  如果时令未到而气候先期来过，称为太过\n"
     ]
    }
   ],
   "source": [
    "result_output(10)"
   ]
  },
  {
   "cell_type": "code",
   "execution_count": 67,
   "id": "fa401d7e",
   "metadata": {},
   "outputs": [
    {
     "name": "stdout",
     "output_type": "stream",
     "text": [
      "Context: （一）灸法的作用1.温通经络、祛除寒邪可用治寒邪所致疾患。2.引导气血有升提中气或引气下行，可治中气下陷、肝阳上亢之证。3.回阳固脱、补气固本治阳气虚脱证。4.行气活血、散瘀消肿能治疗各种痛证和寒性疖肿等。（二）灸法的适应证灸法对慢性病、虚寒等证较为适合，如久泄、痰饮、水肿、痿证、痹证、腹痛、胃痛、阳痿、遗尿、疝、虚劳，崩漏、阴挺、中风脱证、外科阴疽、瘰疬、瘿瘤等。\n",
      "\n",
      "Question: 慢性病、虚寒等证的症状表现是什么？\n",
      "\n",
      "Predict Answer: \n",
      "\n",
      "Real Answer:  如久泄、痰饮、水肿、痿证、痹证、腹痛、胃痛、阳痿、遗尿、疝、虚劳，崩漏、阴挺、中风脱证、外科阴疽、瘰疬、瘿瘤等。\n"
     ]
    }
   ],
   "source": [
    "result_output(20)"
   ]
  },
  {
   "cell_type": "code",
   "execution_count": null,
   "id": "ea25b935",
   "metadata": {},
   "outputs": [],
   "source": []
  }
 ],
 "metadata": {
  "kernelspec": {
   "display_name": "env",
   "language": "python",
   "name": "env1"
  },
  "language_info": {
   "codemirror_mode": {
    "name": "ipython",
    "version": 3
   },
   "file_extension": ".py",
   "mimetype": "text/x-python",
   "name": "python",
   "nbconvert_exporter": "python",
   "pygments_lexer": "ipython3",
   "version": "3.10.14"
  }
 },
 "nbformat": 4,
 "nbformat_minor": 5
}
