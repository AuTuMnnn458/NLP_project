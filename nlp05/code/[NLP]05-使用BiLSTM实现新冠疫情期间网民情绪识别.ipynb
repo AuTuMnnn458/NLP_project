{
 "cells": [
  {
   "cell_type": "markdown",
   "id": "c762bb5b",
   "metadata": {},
   "source": [
    "# 数据准备"
   ]
  },
  {
   "cell_type": "code",
   "execution_count": 66,
   "id": "3fab5eda",
   "metadata": {},
   "outputs": [],
   "source": [
    "import numpy as np\n",
    "import pandas as pd"
   ]
  },
  {
   "cell_type": "code",
   "execution_count": 67,
   "id": "f4949b16",
   "metadata": {},
   "outputs": [],
   "source": [
    "data = np.load(r'D:\\model\\web\\nlp05\\data\\data.npz', allow_pickle=True)"
   ]
  },
  {
   "cell_type": "code",
   "execution_count": 68,
   "id": "f51e78b2",
   "metadata": {},
   "outputs": [
    {
     "data": {
      "text/plain": [
       "['x', 'y']"
      ]
     },
     "execution_count": 68,
     "metadata": {},
     "output_type": "execute_result"
    }
   ],
   "source": [
    "data.files"
   ]
  },
  {
   "cell_type": "code",
   "execution_count": 69,
   "id": "cc13495e",
   "metadata": {},
   "outputs": [
    {
     "name": "stdout",
     "output_type": "stream",
     "text": [
      "(28720,) (28720,)\n"
     ]
    }
   ],
   "source": [
    "X,y = data['x'],data['y']\n",
    "print(X.shape,y.shape)"
   ]
  },
  {
   "cell_type": "markdown",
   "id": "91667e8c",
   "metadata": {},
   "source": [
    "## 词嵌入"
   ]
  },
  {
   "cell_type": "code",
   "execution_count": 70,
   "id": "8d38c46e",
   "metadata": {},
   "outputs": [
    {
     "data": {
      "text/plain": [
       "['45293',\n",
       " '34076',\n",
       " '15125',\n",
       " '22530',\n",
       " '39738',\n",
       " '65278',\n",
       " '16847',\n",
       " '5882',\n",
       " '33107',\n",
       " '16847',\n",
       " '5270',\n",
       " '16847',\n",
       " '65578']"
      ]
     },
     "execution_count": 70,
     "metadata": {},
     "output_type": "execute_result"
    }
   ],
   "source": [
    "crops = pd.Series(X).apply(lambda x: list(map(str,x))).tolist()\n",
    "crops[0]"
   ]
  },
  {
   "cell_type": "code",
   "execution_count": 71,
   "id": "334d7853",
   "metadata": {},
   "outputs": [],
   "source": [
    "from gensim.models.word2vec import Word2Vec"
   ]
  },
  {
   "cell_type": "code",
   "execution_count": 72,
   "id": "216582a7",
   "metadata": {},
   "outputs": [
    {
     "data": {
      "text/plain": [
       "<gensim.models.word2vec.Word2Vec at 0x16a48116e60>"
      ]
     },
     "execution_count": 72,
     "metadata": {},
     "output_type": "execute_result"
    }
   ],
   "source": [
    "w2v_model = Word2Vec(sentences=crops,vector_size=128,min_count=3,window=2)\n",
    "w2v_model"
   ]
  },
  {
   "cell_type": "markdown",
   "id": "5f61b8c7",
   "metadata": {},
   "source": [
    "## 词向量矩阵"
   ]
  },
  {
   "cell_type": "code",
   "execution_count": 73,
   "id": "771178bb",
   "metadata": {},
   "outputs": [
    {
     "data": {
      "text/plain": [
       "25455"
      ]
     },
     "execution_count": 73,
     "metadata": {},
     "output_type": "execute_result"
    }
   ],
   "source": [
    "# 语料库\n",
    "vocab_list = w2v_model.wv.index_to_key\n",
    "len(vocab_list)"
   ]
  },
  {
   "cell_type": "code",
   "execution_count": 74,
   "id": "6ee45c5d",
   "metadata": {},
   "outputs": [
    {
     "data": {
      "text/plain": [
       "(25456, 128)"
      ]
     },
     "execution_count": 74,
     "metadata": {},
     "output_type": "execute_result"
    }
   ],
   "source": [
    "word_matrix = np.zeros([len(vocab_list)+1,w2v_model.vector_size],dtype=np.float32)\n",
    "for i in range(len(vocab_list)):\n",
    "    word_matrix[i+1,:]=w2v_model.wv[i]\n",
    "word_matrix = pd.DataFrame(word_matrix,index=['0']+vocab_list).values\n",
    "word_matrix.shape"
   ]
  },
  {
   "cell_type": "code",
   "execution_count": 75,
   "id": "d107dcfc",
   "metadata": {},
   "outputs": [],
   "source": [
    "# 编码后的语料库\n",
    "key_to_idex = w2v_model.wv.key_to_index"
   ]
  },
  {
   "cell_type": "code",
   "execution_count": 76,
   "id": "cbf090f4",
   "metadata": {},
   "outputs": [
    {
     "data": {
      "text/plain": [
       "0        [4083, 14181, 10669, 44, 10028, 10020, 541, 0,...\n",
       "1        [0, 8663, 2428, 44, 584, 723, 5743, 20181, 341...\n",
       "2                    [351, 773, 145, 44, 0, 563, 1005, 81]\n",
       "3        [13377, 5842, 721, 7203, 4289, 10645, 44, 14, ...\n",
       "4           [81, 1246, 44, 3114, 0, 2528, 2528, 1770, 806]\n",
       "                               ...                        \n",
       "28715    [76, 8476, 15, 13731, 10688, 560, 4979, 0, 15,...\n",
       "28716    [1022, 14238, 1448, 7213, 1177, 391, 1022, 142...\n",
       "28717    [0, 956, 0, 1413, 0, 6218, 4282, 108, 6862, 83...\n",
       "28718    [76, 916, 0, 4681, 0, 3947, 23867, 25401, 0, 3...\n",
       "28719    [761, 2, 20157, 136, 22070, 10918, 4608, 25455...\n",
       "Length: 28720, dtype: object"
      ]
     },
     "execution_count": 76,
     "metadata": {},
     "output_type": "execute_result"
    }
   ],
   "source": [
    "crops_encoder = pd.Series(crops).apply(lambda x:[np.int32(key_to_idex.get(i,-1)+1) for i in x])\n",
    "crops_encoder"
   ]
  },
  {
   "cell_type": "markdown",
   "id": "f5a8010d",
   "metadata": {},
   "source": [
    "## 统一句子长度"
   ]
  },
  {
   "cell_type": "code",
   "execution_count": 77,
   "id": "9abc5b76",
   "metadata": {},
   "outputs": [
    {
     "data": {
      "text/plain": [
       "0        [0, 0, 0, 0, 0, 0, 0, 0, 0, 0, 0, 0, 0, 0, 0, ...\n",
       "1        [0, 0, 0, 0, 0, 0, 0, 0, 0, 0, 0, 0, 0, 0, 0, ...\n",
       "2        [0, 0, 0, 0, 0, 0, 0, 0, 0, 0, 0, 0, 0, 0, 0, ...\n",
       "3        [0, 0, 0, 0, 0, 0, 0, 0, 0, 0, 0, 0, 0, 0, 0, ...\n",
       "4        [0, 0, 0, 0, 0, 0, 0, 0, 0, 0, 0, 0, 0, 0, 0, ...\n",
       "                               ...                        \n",
       "28715    [0, 0, 0, 0, 0, 0, 0, 0, 0, 0, 0, 0, 0, 0, 0, ...\n",
       "28716    [0, 0, 0, 0, 0, 0, 0, 0, 0, 0, 0, 0, 0, 0, 0, ...\n",
       "28717    [0, 0, 0, 0, 0, 0, 0, 0, 0, 0, 0, 0, 0, 0, 0, ...\n",
       "28718    [0, 0, 0, 0, 0, 0, 0, 0, 0, 0, 0, 0, 0, 0, 0, ...\n",
       "28719    [0, 0, 0, 0, 0, 0, 0, 0, 0, 0, 0, 0, 0, 0, 0, ...\n",
       "Length: 28720, dtype: object"
      ]
     },
     "execution_count": 77,
     "metadata": {},
     "output_type": "execute_result"
    }
   ],
   "source": [
    "max_len = 60     # 固定词长\n",
    "crops_encoder_new = crops_encoder.apply(lambda x: ([0]*max_len+x)[-max_len:])\n",
    "crops_encoder_new"
   ]
  },
  {
   "cell_type": "markdown",
   "id": "bdc88474",
   "metadata": {},
   "source": [
    "## 划分数据 "
   ]
  },
  {
   "cell_type": "code",
   "execution_count": 79,
   "id": "5494bb73",
   "metadata": {},
   "outputs": [
    {
     "name": "stdout",
     "output_type": "stream",
     "text": [
      "(22976,) (5744,) (22976,) (5744,)\n"
     ]
    }
   ],
   "source": [
    "from sklearn.model_selection import train_test_split\n",
    "X_train,X_test,y_train,y_test= train_test_split(crops_encoder_new,y,test_size=0.2,stratify=y, random_state = 42)\n",
    "print(X_train.shape,X_test.shape,y_train.shape,y_test.shape)"
   ]
  },
  {
   "cell_type": "markdown",
   "id": "f76d4b80",
   "metadata": {},
   "source": [
    "## 封装到数据集中"
   ]
  },
  {
   "cell_type": "code",
   "execution_count": 80,
   "id": "7f7b7ca6",
   "metadata": {},
   "outputs": [],
   "source": [
    "X_train_tensor = torch.tensor(X_train.to_list(),dtype=torch.int32)\n",
    "X_test_tensor = torch.tensor(X_test.to_list(),dtype=torch.int32)\n",
    "y_train_tensor = torch.tensor(y_train)\n",
    "\n",
    "train_ds = torch.utils.data.TensorDataset(X_train_tensor,y_train_tensor)\n",
    "train_dl = torch.utils.data.DataLoader(train_ds,batch_size=32,shuffle=True)"
   ]
  },
  {
   "cell_type": "code",
   "execution_count": 81,
   "id": "3baa25ad",
   "metadata": {},
   "outputs": [
    {
     "name": "stdout",
     "output_type": "stream",
     "text": [
      "(tensor([    0,     0,     0,     0,     0,     0,     0,     0,     0,     0,\n",
      "            0,     0,     0,     0,     0,     0,     0,     0,     0,     0,\n",
      "            0,     0,     0,     0,     0,     0,     0,     0,     0,     0,\n",
      "            0,  2621,   285,  6529,  1555,     8,     0, 13597, 22655,   370,\n",
      "            8,  6355,   285,     0,   613,     0,    13, 12534,  9425,   164,\n",
      "            3,     0,  7156, 15485, 14804,     0,  6066,  1287,   720,     0],\n",
      "       dtype=torch.int32), tensor(0))\n"
     ]
    }
   ],
   "source": [
    "for i in train_ds:\n",
    "    print(i)\n",
    "    break"
   ]
  },
  {
   "cell_type": "markdown",
   "id": "b36c05c9",
   "metadata": {},
   "source": [
    "# 建模"
   ]
  },
  {
   "cell_type": "code",
   "execution_count": 82,
   "id": "aacf7873",
   "metadata": {},
   "outputs": [],
   "source": [
    "import torch\n",
    "class BiLSTM(torch.nn.Module):\n",
    "    def __init__(self,embeddings=None,hidden_size=16,max_len=60,output_size=2):\n",
    "        super(BiLSTM, self).__init__()\n",
    "        vocab_size, embedding_size = embeddings.shape     \n",
    "        self.embedding = torch.nn.Embedding(\n",
    "            num_embeddings=vocab_size,       \n",
    "            embedding_dim=embedding_size,    \n",
    "            _weight=torch.tensor(embeddings, dtype=torch.float32),    \n",
    "            padding_idx=0\n",
    "        )\n",
    "        self.lstm =torch.nn.LSTM(\n",
    "            input_size=embedding_size,#词向量大小\n",
    "            hidden_size=hidden_size,#隐藏神经元\n",
    "            batch_first=True,\n",
    "            bidirectional=True,#双向\n",
    "        )\n",
    "        self.fc1 = torch.nn.Linear(\n",
    "            in_features=max_len*2*hidden_size,\n",
    "            out_features=16\n",
    "        )\n",
    "        self.fc2 = torch.nn.Linear(\n",
    "            in_features=16,\n",
    "            out_features=output_size,\n",
    "        )\n",
    "        self.flatten = torch.nn.Flatten()\n",
    "    def forward(self,x):\n",
    "        x = self.embedding(x)\n",
    "        x,_ = self.lstm(x)\n",
    "        x = self.flatten(x)\n",
    "        x = self.fc1(x)\n",
    "        x = self.fc2(x)\n",
    "        return x"
   ]
  },
  {
   "cell_type": "code",
   "execution_count": 83,
   "id": "3cdad935",
   "metadata": {},
   "outputs": [],
   "source": [
    "network = BiLSTM(embeddings=word_matrix) #实例模型\n",
    "loss_fn = torch.nn.CrossEntropyLoss() #损失函数\n",
    "optimizer = torch.optim.Adam(network.parameters(),lr=0.001) #优化器"
   ]
  },
  {
   "cell_type": "code",
   "execution_count": 84,
   "id": "62e438a2",
   "metadata": {},
   "outputs": [
    {
     "data": {
      "text/plain": [
       "BiLSTM(\n",
       "  (embedding): Embedding(25456, 128, padding_idx=0)\n",
       "  (lstm): LSTM(128, 16, batch_first=True, bidirectional=True)\n",
       "  (fc1): Linear(in_features=1920, out_features=16, bias=True)\n",
       "  (fc2): Linear(in_features=16, out_features=2, bias=True)\n",
       "  (flatten): Flatten(start_dim=1, end_dim=-1)\n",
       ")"
      ]
     },
     "execution_count": 84,
     "metadata": {},
     "output_type": "execute_result"
    }
   ],
   "source": [
    "network"
   ]
  },
  {
   "cell_type": "markdown",
   "id": "7720f78b",
   "metadata": {},
   "source": [
    "# 构建训练函数"
   ]
  },
  {
   "cell_type": "code",
   "execution_count": 85,
   "id": "cdb85553",
   "metadata": {},
   "outputs": [
    {
     "name": "stdout",
     "output_type": "stream",
     "text": [
      "第1轮训练，最后一批样本的训练损失值为：0.10237821191549301\n",
      "第2轮训练，最后一批样本的训练损失值为：0.15801899135112762\n",
      "第3轮训练，最后一批样本的训练损失值为：0.10594882071018219\n"
     ]
    }
   ],
   "source": [
    "def fif(epochs):\n",
    "    for epoch in range(epochs):\n",
    "        for x_batch,label in train_dl:\n",
    "            y_pre = network(x_batch)\n",
    "            loss = loss_fn(y_pre,label)\n",
    "            network.zero_grad()\n",
    "            loss.backward()\n",
    "            optimizer.step()\n",
    "        print('第{}轮训练，最后一批样本的训练损失值为：{}'.format(epoch+1, loss.item()))\n",
    "fif(epochs=3)"
   ]
  },
  {
   "cell_type": "markdown",
   "id": "0477d624",
   "metadata": {},
   "source": [
    "## 模型性能评估"
   ]
  },
  {
   "cell_type": "code",
   "execution_count": 86,
   "id": "3d848b4d",
   "metadata": {},
   "outputs": [
    {
     "data": {
      "text/plain": [
       "0.8687325905292479"
      ]
     },
     "execution_count": 86,
     "metadata": {},
     "output_type": "execute_result"
    }
   ],
   "source": [
    "pre = network(X_test_tensor)\n",
    "result = pre.data.numpy().argmax(axis=1)\n",
    "acc_test = (result== y_test).mean()\n",
    "acc_test"
   ]
  },
  {
   "cell_type": "code",
   "execution_count": null,
   "id": "b021d4e7",
   "metadata": {},
   "outputs": [],
   "source": []
  }
 ],
 "metadata": {
  "kernelspec": {
   "display_name": "env",
   "language": "python",
   "name": "env1"
  },
  "language_info": {
   "codemirror_mode": {
    "name": "ipython",
    "version": 3
   },
   "file_extension": ".py",
   "mimetype": "text/x-python",
   "name": "python",
   "nbconvert_exporter": "python",
   "pygments_lexer": "ipython3",
   "version": "3.10.14"
  }
 },
 "nbformat": 4,
 "nbformat_minor": 5
}
