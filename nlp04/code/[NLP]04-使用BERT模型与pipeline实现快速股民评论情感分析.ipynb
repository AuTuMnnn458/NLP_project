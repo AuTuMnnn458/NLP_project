{
 "cells": [
  {
   "cell_type": "markdown",
   "id": "30c11580",
   "metadata": {},
   "source": [
    "# 数据加载\n",
    "\n",
    "- 数据可从 https://guba.eastmoney.com/list,601901_1.html 爬取\n",
    "- 本项目的数据并非最新，为2023年12月左右的评论数据"
   ]
  },
  {
   "cell_type": "code",
   "execution_count": 34,
   "id": "74067578",
   "metadata": {},
   "outputs": [],
   "source": [
    "import pandas as pd\n",
    "comment = pd.read_excel('D:/model/web/nlp04/data/股民评论数据.xlsx')"
   ]
  },
  {
   "cell_type": "code",
   "execution_count": 35,
   "id": "063a3c90",
   "metadata": {},
   "outputs": [
    {
     "data": {
      "text/html": [
       "<div>\n",
       "<style scoped>\n",
       "    .dataframe tbody tr th:only-of-type {\n",
       "        vertical-align: middle;\n",
       "    }\n",
       "\n",
       "    .dataframe tbody tr th {\n",
       "        vertical-align: top;\n",
       "    }\n",
       "\n",
       "    .dataframe thead th {\n",
       "        text-align: right;\n",
       "    }\n",
       "</style>\n",
       "<table border=\"1\" class=\"dataframe\">\n",
       "  <thead>\n",
       "    <tr style=\"text-align: right;\">\n",
       "      <th></th>\n",
       "      <th>title</th>\n",
       "      <th>time</th>\n",
       "      <th>read</th>\n",
       "      <th>reply</th>\n",
       "      <th>name_text</th>\n",
       "    </tr>\n",
       "  </thead>\n",
       "  <tbody>\n",
       "    <tr>\n",
       "      <th>0</th>\n",
       "      <td>“人齐了”再强化！方正研究所再添副所长 原德邦证券芦哲加盟出任 身兼首席宏观经济学家</td>\n",
       "      <td>2023-12-01 12:15:00</td>\n",
       "      <td>2020</td>\n",
       "      <td>14</td>\n",
       "      <td>方正证券资讯</td>\n",
       "    </tr>\n",
       "    <tr>\n",
       "      <th>1</th>\n",
       "      <td>看走势方正本周末不会停牌，其实晚点停更好，因停牌前20日涨幅不能超过20%，往后</td>\n",
       "      <td>2023-12-01 03:19:00</td>\n",
       "      <td>231</td>\n",
       "      <td>3</td>\n",
       "      <td>越是真理越简单</td>\n",
       "    </tr>\n",
       "    <tr>\n",
       "      <th>2</th>\n",
       "      <td>图一是日线图，绿圈位置是日线死叉一个日线级别卖点。图二是一个30分图。最低杀到8</td>\n",
       "      <td>2023-11-30 05:25:00</td>\n",
       "      <td>7665</td>\n",
       "      <td>396</td>\n",
       "      <td>股怪不在怪</td>\n",
       "    </tr>\n",
       "    <tr>\n",
       "      <th>3</th>\n",
       "      <td>大家散了吧，把重组什么的都忘了了吧，周一历史高位快跑吧。</td>\n",
       "      <td>2023-12-01 03:16:00</td>\n",
       "      <td>49</td>\n",
       "      <td>1</td>\n",
       "      <td>Aishad</td>\n",
       "    </tr>\n",
       "    <tr>\n",
       "      <th>4</th>\n",
       "      <td>注销东方财富，换成通达信，这里叽叽喳喳太恶心了</td>\n",
       "      <td>2023-12-01 03:32:00</td>\n",
       "      <td>12</td>\n",
       "      <td>0</td>\n",
       "      <td>微笑若成风</td>\n",
       "    </tr>\n",
       "  </tbody>\n",
       "</table>\n",
       "</div>"
      ],
      "text/plain": [
       "                                        title                time  read  \\\n",
       "0  “人齐了”再强化！方正研究所再添副所长 原德邦证券芦哲加盟出任 身兼首席宏观经济学家 2023-12-01 12:15:00  2020   \n",
       "1    看走势方正本周末不会停牌，其实晚点停更好，因停牌前20日涨幅不能超过20%，往后 2023-12-01 03:19:00   231   \n",
       "2    图一是日线图，绿圈位置是日线死叉一个日线级别卖点。图二是一个30分图。最低杀到8 2023-11-30 05:25:00  7665   \n",
       "3                大家散了吧，把重组什么的都忘了了吧，周一历史高位快跑吧。 2023-12-01 03:16:00    49   \n",
       "4                     注销东方财富，换成通达信，这里叽叽喳喳太恶心了 2023-12-01 03:32:00    12   \n",
       "\n",
       "   reply name_text  \n",
       "0     14    方正证券资讯  \n",
       "1      3   越是真理越简单  \n",
       "2    396     股怪不在怪  \n",
       "3      1    Aishad  \n",
       "4      0     微笑若成风  "
      ]
     },
     "execution_count": 35,
     "metadata": {},
     "output_type": "execute_result"
    }
   ],
   "source": [
    "comment.head()"
   ]
  },
  {
   "cell_type": "markdown",
   "id": "350c5ea4",
   "metadata": {},
   "source": [
    "# 数据预处理"
   ]
  },
  {
   "cell_type": "code",
   "execution_count": 44,
   "id": "a2066384",
   "metadata": {},
   "outputs": [],
   "source": [
    "from transformers import AutoTokenizer, AutoModelForSequenceClassification"
   ]
  },
  {
   "cell_type": "code",
   "execution_count": 39,
   "id": "ffcca9e8",
   "metadata": {},
   "outputs": [],
   "source": [
    "model_path = 'D:/model/web/nlp04/new_model'"
   ]
  },
  {
   "cell_type": "code",
   "execution_count": 42,
   "id": "f256ee57",
   "metadata": {},
   "outputs": [],
   "source": [
    "tokenizer = AutoTokenizer.from_pretrained(model_path)"
   ]
  },
  {
   "cell_type": "code",
   "execution_count": 43,
   "id": "ac88db2e",
   "metadata": {},
   "outputs": [
    {
     "data": {
      "text/plain": [
       "BertTokenizerFast(name_or_path='D:/model/web/nlp04/new_model', vocab_size=21128, model_max_length=512, is_fast=True, padding_side='right', truncation_side='right', special_tokens={'unk_token': '[UNK]', 'sep_token': '[SEP]', 'pad_token': '[PAD]', 'cls_token': '[CLS]', 'mask_token': '[MASK]'}, clean_up_tokenization_spaces=True),  added_tokens_decoder={\n",
       "\t0: AddedToken(\"[PAD]\", rstrip=False, lstrip=False, single_word=False, normalized=False, special=True),\n",
       "\t100: AddedToken(\"[UNK]\", rstrip=False, lstrip=False, single_word=False, normalized=False, special=True),\n",
       "\t101: AddedToken(\"[CLS]\", rstrip=False, lstrip=False, single_word=False, normalized=False, special=True),\n",
       "\t102: AddedToken(\"[SEP]\", rstrip=False, lstrip=False, single_word=False, normalized=False, special=True),\n",
       "\t103: AddedToken(\"[MASK]\", rstrip=False, lstrip=False, single_word=False, normalized=False, special=True),\n",
       "}"
      ]
     },
     "execution_count": 43,
     "metadata": {},
     "output_type": "execute_result"
    }
   ],
   "source": [
    "tokenizer "
   ]
  },
  {
   "cell_type": "code",
   "execution_count": 40,
   "id": "c68cb42d",
   "metadata": {},
   "outputs": [],
   "source": [
    "model = AutoModelForSequenceClassification.from_pretrained(model_path, num_labels = 3)"
   ]
  },
  {
   "cell_type": "code",
   "execution_count": 41,
   "id": "8a454d76",
   "metadata": {},
   "outputs": [
    {
     "data": {
      "text/plain": [
       "BertForSequenceClassification(\n",
       "  (bert): BertModel(\n",
       "    (embeddings): BertEmbeddings(\n",
       "      (word_embeddings): Embedding(21128, 768, padding_idx=0)\n",
       "      (position_embeddings): Embedding(512, 768)\n",
       "      (token_type_embeddings): Embedding(2, 768)\n",
       "      (LayerNorm): LayerNorm((768,), eps=1e-12, elementwise_affine=True)\n",
       "      (dropout): Dropout(p=0.1, inplace=False)\n",
       "    )\n",
       "    (encoder): BertEncoder(\n",
       "      (layer): ModuleList(\n",
       "        (0-11): 12 x BertLayer(\n",
       "          (attention): BertAttention(\n",
       "            (self): BertSdpaSelfAttention(\n",
       "              (query): Linear(in_features=768, out_features=768, bias=True)\n",
       "              (key): Linear(in_features=768, out_features=768, bias=True)\n",
       "              (value): Linear(in_features=768, out_features=768, bias=True)\n",
       "              (dropout): Dropout(p=0.1, inplace=False)\n",
       "            )\n",
       "            (output): BertSelfOutput(\n",
       "              (dense): Linear(in_features=768, out_features=768, bias=True)\n",
       "              (LayerNorm): LayerNorm((768,), eps=1e-12, elementwise_affine=True)\n",
       "              (dropout): Dropout(p=0.1, inplace=False)\n",
       "            )\n",
       "          )\n",
       "          (intermediate): BertIntermediate(\n",
       "            (dense): Linear(in_features=768, out_features=3072, bias=True)\n",
       "            (intermediate_act_fn): GELUActivation()\n",
       "          )\n",
       "          (output): BertOutput(\n",
       "            (dense): Linear(in_features=3072, out_features=768, bias=True)\n",
       "            (LayerNorm): LayerNorm((768,), eps=1e-12, elementwise_affine=True)\n",
       "            (dropout): Dropout(p=0.1, inplace=False)\n",
       "          )\n",
       "        )\n",
       "      )\n",
       "    )\n",
       "    (pooler): BertPooler(\n",
       "      (dense): Linear(in_features=768, out_features=768, bias=True)\n",
       "      (activation): Tanh()\n",
       "    )\n",
       "  )\n",
       "  (dropout): Dropout(p=0.1, inplace=False)\n",
       "  (classifier): Linear(in_features=768, out_features=3, bias=True)\n",
       ")"
      ]
     },
     "execution_count": 41,
     "metadata": {},
     "output_type": "execute_result"
    }
   ],
   "source": [
    "model"
   ]
  },
  {
   "cell_type": "markdown",
   "id": "e4828ebd",
   "metadata": {},
   "source": [
    "# 使用pipeline快速实现情感分类"
   ]
  },
  {
   "cell_type": "code",
   "execution_count": 57,
   "id": "7dcc25f5",
   "metadata": {},
   "outputs": [],
   "source": [
    "from transformers import pipeline"
   ]
  },
  {
   "cell_type": "code",
   "execution_count": 58,
   "id": "51ee3775",
   "metadata": {},
   "outputs": [],
   "source": [
    "classifier = pipeline('sentiment-analysis', \n",
    "                      model = model,\n",
    "                      tokenizer = tokenizer,\n",
    "                      max_length = 512,\n",
    "                      truncation = True,\n",
    "                      padding = True,\n",
    "                      device = 'cuda'\n",
    "                     )"
   ]
  },
  {
   "cell_type": "code",
   "execution_count": 59,
   "id": "0b28b822",
   "metadata": {},
   "outputs": [
    {
     "data": {
      "text/plain": [
       "[{'label': 'Neutral', 'score': 0.9998457431793213}]"
      ]
     },
     "execution_count": 59,
     "metadata": {},
     "output_type": "execute_result"
    }
   ],
   "source": [
    "classifier(list(comment['title'])[0])"
   ]
  },
  {
   "cell_type": "code",
   "execution_count": 68,
   "id": "05b767b7",
   "metadata": {},
   "outputs": [],
   "source": [
    "def result_output(text = list(comment['title']), classifier = classifier):\n",
    "    Label, Score = [], []\n",
    "    for i in range(len(text)):\n",
    "        label = classifier(text[i])[0]['label']\n",
    "        score = classifier(text[i])[0]['score']\n",
    "        Label.append(label)\n",
    "        Score.append(score)\n",
    "        \n",
    "    df = pd.DataFrame({\n",
    "        'comment':text,\n",
    "        'label':Label,\n",
    "        'score': Score,\n",
    "    })\n",
    "    df['label'] = df['label'].map({\n",
    "        'Neutral': '中性',\n",
    "        'Negative': '消极',\n",
    "        'Positive': '积极'\n",
    "    })    \n",
    "    return df"
   ]
  },
  {
   "cell_type": "code",
   "execution_count": 69,
   "id": "76bb934a",
   "metadata": {},
   "outputs": [
    {
     "data": {
      "text/html": [
       "<div>\n",
       "<style scoped>\n",
       "    .dataframe tbody tr th:only-of-type {\n",
       "        vertical-align: middle;\n",
       "    }\n",
       "\n",
       "    .dataframe tbody tr th {\n",
       "        vertical-align: top;\n",
       "    }\n",
       "\n",
       "    .dataframe thead th {\n",
       "        text-align: right;\n",
       "    }\n",
       "</style>\n",
       "<table border=\"1\" class=\"dataframe\">\n",
       "  <thead>\n",
       "    <tr style=\"text-align: right;\">\n",
       "      <th></th>\n",
       "      <th>comment</th>\n",
       "      <th>label</th>\n",
       "      <th>score</th>\n",
       "    </tr>\n",
       "  </thead>\n",
       "  <tbody>\n",
       "    <tr>\n",
       "      <th>0</th>\n",
       "      <td>“人齐了”再强化！方正研究所再添副所长 原德邦证券芦哲加盟出任 身兼首席宏观经济学家</td>\n",
       "      <td>中性</td>\n",
       "      <td>0.999846</td>\n",
       "    </tr>\n",
       "    <tr>\n",
       "      <th>1</th>\n",
       "      <td>看走势方正本周末不会停牌，其实晚点停更好，因停牌前20日涨幅不能超过20%，往后</td>\n",
       "      <td>中性</td>\n",
       "      <td>0.999514</td>\n",
       "    </tr>\n",
       "    <tr>\n",
       "      <th>2</th>\n",
       "      <td>图一是日线图，绿圈位置是日线死叉一个日线级别卖点。图二是一个30分图。最低杀到8</td>\n",
       "      <td>中性</td>\n",
       "      <td>0.999524</td>\n",
       "    </tr>\n",
       "    <tr>\n",
       "      <th>3</th>\n",
       "      <td>大家散了吧，把重组什么的都忘了了吧，周一历史高位快跑吧。</td>\n",
       "      <td>中性</td>\n",
       "      <td>0.999843</td>\n",
       "    </tr>\n",
       "    <tr>\n",
       "      <th>4</th>\n",
       "      <td>注销东方财富，换成通达信，这里叽叽喳喳太恶心了</td>\n",
       "      <td>消极</td>\n",
       "      <td>0.999705</td>\n",
       "    </tr>\n",
       "    <tr>\n",
       "      <th>5</th>\n",
       "      <td>周一看涨跌</td>\n",
       "      <td>消极</td>\n",
       "      <td>0.874752</td>\n",
       "    </tr>\n",
       "    <tr>\n",
       "      <th>6</th>\n",
       "      <td>涨个几分钱可真费劲啊[滴汗][滴汗][滴汗]</td>\n",
       "      <td>积极</td>\n",
       "      <td>0.995598</td>\n",
       "    </tr>\n",
       "    <tr>\n",
       "      <th>7</th>\n",
       "      <td>又套一批，周一快跑吧</td>\n",
       "      <td>中性</td>\n",
       "      <td>0.999845</td>\n",
       "    </tr>\n",
       "    <tr>\n",
       "      <th>8</th>\n",
       "      <td>周线像是吊颈线，今天把本周补的仓位全部T出去了，等待下周验证</td>\n",
       "      <td>中性</td>\n",
       "      <td>0.999780</td>\n",
       "    </tr>\n",
       "    <tr>\n",
       "      <th>9</th>\n",
       "      <td>感觉信达还在减持</td>\n",
       "      <td>中性</td>\n",
       "      <td>0.998025</td>\n",
       "    </tr>\n",
       "  </tbody>\n",
       "</table>\n",
       "</div>"
      ],
      "text/plain": [
       "                                      comment label     score\n",
       "0  “人齐了”再强化！方正研究所再添副所长 原德邦证券芦哲加盟出任 身兼首席宏观经济学家    中性  0.999846\n",
       "1    看走势方正本周末不会停牌，其实晚点停更好，因停牌前20日涨幅不能超过20%，往后    中性  0.999514\n",
       "2    图一是日线图，绿圈位置是日线死叉一个日线级别卖点。图二是一个30分图。最低杀到8    中性  0.999524\n",
       "3                大家散了吧，把重组什么的都忘了了吧，周一历史高位快跑吧。    中性  0.999843\n",
       "4                     注销东方财富，换成通达信，这里叽叽喳喳太恶心了    消极  0.999705\n",
       "5                                       周一看涨跌    消极  0.874752\n",
       "6                      涨个几分钱可真费劲啊[滴汗][滴汗][滴汗]    积极  0.995598\n",
       "7                                  又套一批，周一快跑吧    中性  0.999845\n",
       "8              周线像是吊颈线，今天把本周补的仓位全部T出去了，等待下周验证    中性  0.999780\n",
       "9                                    感觉信达还在减持    中性  0.998025"
      ]
     },
     "execution_count": 69,
     "metadata": {},
     "output_type": "execute_result"
    }
   ],
   "source": [
    "result_output(list(comment['title'])[:10], classifier)"
   ]
  },
  {
   "cell_type": "code",
   "execution_count": null,
   "id": "63c0bbaa",
   "metadata": {},
   "outputs": [],
   "source": []
  }
 ],
 "metadata": {
  "kernelspec": {
   "display_name": "env",
   "language": "python",
   "name": "env1"
  },
  "language_info": {
   "codemirror_mode": {
    "name": "ipython",
    "version": 3
   },
   "file_extension": ".py",
   "mimetype": "text/x-python",
   "name": "python",
   "nbconvert_exporter": "python",
   "pygments_lexer": "ipython3",
   "version": "3.10.14"
  }
 },
 "nbformat": 4,
 "nbformat_minor": 5
}
